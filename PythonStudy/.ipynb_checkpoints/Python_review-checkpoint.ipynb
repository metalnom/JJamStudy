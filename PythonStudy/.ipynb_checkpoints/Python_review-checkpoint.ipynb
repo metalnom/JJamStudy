{
 "cells": [
  {
   "cell_type": "code",
   "execution_count": 1,
   "metadata": {},
   "outputs": [],
   "source": [
    "# int string float boolean\n",
    "# if\n",
    "# List"
   ]
  },
  {
   "cell_type": "code",
   "execution_count": 2,
   "metadata": {},
   "outputs": [],
   "source": [
    "# [상위메뉴]-[하위메뉴]"
   ]
  },
  {
   "cell_type": "code",
   "execution_count": 3,
   "metadata": {},
   "outputs": [],
   "source": [
    "# 메뉴판 만들기\n",
    "# 0) 리스트를 이용해서 menu = [[된장, 김치], [돈가스, 스테이크], [짜장면, 짬뽕]]\n",
    "# 1) 상위메뉴판 만들기 : 한식, 양식, 중식\n",
    "# 2) 하위메뉴판 만들기 : 각 상위메뉴당 2가지 하위메뉴\n",
    "# 3) 메뉴 선택 : 상위메뉴를 먼저 선택, 하위메뉴를 선택\n",
    "# 4) 선택한 메뉴 보여주기"
   ]
  },
  {
   "cell_type": "code",
   "execution_count": 9,
   "metadata": {},
   "outputs": [
    {
     "name": "stdout",
     "output_type": "stream",
     "text": [
      "==========< Menu >==========\n",
      "     1. 한식\n",
      "     2. 양식\n",
      "     3. 중식\n",
      "============================\n",
      "메뉴를 선택하세요 : 4\n",
      "잘못 선택하셨습니다.\n"
     ]
    }
   ],
   "source": [
    "menu = [['된장찌개', '김치찌개'], ['돈가스', '스테이크'], ['짜장면', '짬뽕']]\n",
    "\n",
    "# 상위메뉴판\n",
    "print('==========< Menu >==========')\n",
    "print('     1. 한식')\n",
    "print('     2. 양식')\n",
    "print('     3. 중식')\n",
    "print('============================')\n",
    "\n",
    "# 상위메뉴 선택하기\n",
    "m_1 = input('메뉴를 선택하세요 : ')\n",
    "\n",
    "# 상위메뉴에서 하위메뉴로 들어가기\n",
    "if m_1 == '1':\n",
    "    print('----------< 한식 >----------')\n",
    "    print('     1. {}'.format(menu[0][0]))\n",
    "    print('     2. {}'.format(menu[0][1]))\n",
    "    print('----------------------------')\n",
    "    \n",
    "    m_2 = input('메뉴를 선택하세요 : ')\n",
    "    \n",
    "    if m_2 == '1':\n",
    "        print('{}를(을) 선택하셨습니다.'.format(menu[0][0]))\n",
    "    elif m_2 == '2':\n",
    "        print('{}를(을) 선택하셨습니다.'.format(menu[0][1]))\n",
    "    else:\n",
    "        print('잘못 선택하셨습니다.')\n",
    "    \n",
    "elif m_1 == '2':\n",
    "    print('----------< 양식 >----------')\n",
    "    print('     1. {}'.format(menu[1][0]))\n",
    "    print('     2. {}'.format(menu[1][1]))\n",
    "    print('----------------------------')\n",
    "    \n",
    "    m_2 = input('메뉴를 선택하세요 : ')\n",
    "    \n",
    "    if m_2 == '1':\n",
    "        print('{}를(을) 선택하셨습니다.'.format(menu[1][0]))\n",
    "    elif m_2 == '2':\n",
    "        print('{}를(을) 선택하셨습니다.'.format(menu[1][1]))\n",
    "    else:\n",
    "        print('잘못 선택하셨습니다.')\n",
    "\n",
    "elif m_1 == '3':\n",
    "    print('----------< 양식 >----------')\n",
    "    print('     1. {}'.format(menu[2][0]))\n",
    "    print('     2. {}'.format(menu[2][1]))\n",
    "    print('----------------------------')\n",
    "    \n",
    "    m_2 = input('메뉴를 선택하세요 : ')\n",
    "    \n",
    "    if m_2 == '1':\n",
    "        print('{}를(을) 선택하셨습니다.'.format(menu[2][0]))\n",
    "    elif m_2 == '2':\n",
    "        print('{}를(을) 선택하셨습니다.'.format(menu[2][1]))\n",
    "    else:\n",
    "        print('잘못 선택하셨습니다.')\n",
    "\n",
    "else:\n",
    "    print('잘못 선택하셨습니다.')    "
   ]
  },
  {
   "cell_type": "code",
   "execution_count": null,
   "metadata": {},
   "outputs": [],
   "source": []
  }
 ],
 "metadata": {
  "kernelspec": {
   "display_name": "Python 3",
   "language": "python",
   "name": "python3"
  },
  "language_info": {
   "codemirror_mode": {
    "name": "ipython",
    "version": 3
   },
   "file_extension": ".py",
   "mimetype": "text/x-python",
   "name": "python",
   "nbconvert_exporter": "python",
   "pygments_lexer": "ipython3",
   "version": "3.8.5"
  }
 },
 "nbformat": 4,
 "nbformat_minor": 4
}
