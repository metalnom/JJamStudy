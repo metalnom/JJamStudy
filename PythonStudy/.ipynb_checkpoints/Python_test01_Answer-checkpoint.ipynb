{
 "cells": [
  {
   "cell_type": "code",
   "execution_count": 1,
   "metadata": {},
   "outputs": [
    {
     "name": "stdout",
     "output_type": "stream",
     "text": [
      "NAME\t: 정창도\n",
      "PHONE\t: 010-1234-5678\n"
     ]
    }
   ],
   "source": [
    "# Problem 1\n",
    "print('NAME\\t: 정창도', 'PHONE\\t: 010-1234-5678', sep='\\n')"
   ]
  },
  {
   "cell_type": "code",
   "execution_count": 2,
   "metadata": {},
   "outputs": [
    {
     "name": "stdout",
     "output_type": "stream",
     "text": [
      "넓이 = 88.35 cm^2\n",
      "넓이 = 88.35 cm^2\n"
     ]
    }
   ],
   "source": [
    "# Problem 2\n",
    "a = 12.34\n",
    "b = 7.16\n",
    "\n",
    "sq = a * b\n",
    "print('넓이 = {0:4.2f} cm^2'.format(sq))\n",
    "print('넓이 = %4.2f cm^2' % (sq))"
   ]
  },
  {
   "cell_type": "code",
   "execution_count": 3,
   "metadata": {},
   "outputs": [
    {
     "name": "stdout",
     "output_type": "stream",
     "text": [
      "0123456789\n",
      "남 욱 희\n"
     ]
    }
   ],
   "source": [
    "# Problem 3\n",
    "name_num = '0남1송2김3욱4찬5태6희7근8희9'\n",
    "\n",
    "print(name_num[0:19:2])\n",
    "print(name_num[1], name_num[7], name_num[13])"
   ]
  },
  {
   "cell_type": "code",
   "execution_count": 4,
   "metadata": {},
   "outputs": [
    {
     "name": "stdout",
     "output_type": "stream",
     "text": [
      "0~9사이의 숫자를 입력하세요 : 2\n",
      "정답은 더 큰 수입니다.\n",
      "0~9사이의 숫자를 입력하세요 : 5\n",
      "정답은 더 작은 수입니다.\n",
      "0~9사이의 숫자를 입력하세요 : 3\n",
      "정답은 더 큰 수입니다.\n",
      "0~9사이의 숫자를 입력하세요 : 4\n",
      "정답입니다.\n"
     ]
    }
   ],
   "source": [
    "# Problem 4\n",
    "\n",
    "answer = 4\n",
    "\n",
    "while True:\n",
    "    num = int(input('0~9사이의 숫자를 입력하세요 : '))\n",
    "    if answer == num:\n",
    "        print('정답입니다.')\n",
    "        break\n",
    "    elif answer > num:\n",
    "        print('정답은 더 큰 수입니다.')\n",
    "        continue\n",
    "    elif answer < num:\n",
    "        print('정답은 더 작은 수입니다.')\n",
    "        continue"
   ]
  }
 ],
 "metadata": {
  "kernelspec": {
   "display_name": "Python 3",
   "language": "python",
   "name": "python3"
  },
  "language_info": {
   "codemirror_mode": {
    "name": "ipython",
    "version": 3
   },
   "file_extension": ".py",
   "mimetype": "text/x-python",
   "name": "python",
   "nbconvert_exporter": "python",
   "pygments_lexer": "ipython3",
   "version": "3.8.5"
  }
 },
 "nbformat": 4,
 "nbformat_minor": 4
}
