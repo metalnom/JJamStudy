{
 "cells": [
  {
   "cell_type": "code",
   "execution_count": 1,
   "metadata": {},
   "outputs": [],
   "source": [
    "# if 조건문"
   ]
  },
  {
   "cell_type": "code",
   "execution_count": 6,
   "metadata": {},
   "outputs": [],
   "source": [
    "a = 100\n",
    "b = 150"
   ]
  },
  {
   "cell_type": "code",
   "execution_count": 7,
   "metadata": {},
   "outputs": [
    {
     "name": "stdout",
     "output_type": "stream",
     "text": [
      "a가 b보다 크지 않습니다.\n"
     ]
    }
   ],
   "source": [
    "if a > b:\n",
    "    print('a가 b보다 큽니다.')\n",
    "else:\n",
    "    print('a가 b보다 크지 않습니다.')"
   ]
  },
  {
   "cell_type": "code",
   "execution_count": 9,
   "metadata": {},
   "outputs": [
    {
     "name": "stdout",
     "output_type": "stream",
     "text": [
      "숫자를 입력하시오: 6\n",
      "입력한 숫자는 10보다 작습니다.\n"
     ]
    }
   ],
   "source": [
    "num = int(input(\"숫자를 입력하시오: \"))\n",
    "check = 10\n",
    "\n",
    "if check > num:\n",
    "    print(\"입력한 숫자는 10보다 작습니다.\")\n",
    "elif check == num:\n",
    "    print(\"입력한 숫자는 10과 같습니다.\")\n",
    "else:\n",
    "    print(\"입력한 숫자는 10보다 큽니다.\")"
   ]
  },
  {
   "cell_type": "code",
   "execution_count": null,
   "metadata": {},
   "outputs": [],
   "source": []
  }
 ],
 "metadata": {
  "kernelspec": {
   "display_name": "Python 3",
   "language": "python",
   "name": "python3"
  },
  "language_info": {
   "codemirror_mode": {
    "name": "ipython",
    "version": 3
   },
   "file_extension": ".py",
   "mimetype": "text/x-python",
   "name": "python",
   "nbconvert_exporter": "python",
   "pygments_lexer": "ipython3",
   "version": "3.8.5"
  }
 },
 "nbformat": 4,
 "nbformat_minor": 4
}
