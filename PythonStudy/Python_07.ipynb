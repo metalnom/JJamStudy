{
 "cells": [
  {
   "cell_type": "code",
   "execution_count": 1,
   "metadata": {},
   "outputs": [],
   "source": [
    "# 반복문 while"
   ]
  },
  {
   "cell_type": "code",
   "execution_count": 2,
   "metadata": {},
   "outputs": [
    {
     "name": "stdout",
     "output_type": "stream",
     "text": [
      "0\n",
      "1\n",
      "2\n",
      "3\n",
      "4\n",
      "5\n",
      "6\n",
      "7\n",
      "8\n",
      "9\n"
     ]
    }
   ],
   "source": [
    "num = 0\n",
    "\n",
    "while num < 10:\n",
    "    print('{}'.format(num))\n",
    "    num = num + 1"
   ]
  },
  {
   "cell_type": "code",
   "execution_count": 3,
   "metadata": {},
   "outputs": [
    {
     "name": "stdout",
     "output_type": "stream",
     "text": [
      "숫자를 입력하세요 : 3\n",
      "틀렸습니다.\n",
      "숫자를 입력하세요 : 2\n",
      "틀렸습니다.\n",
      "숫자를 입력하세요 : 6\n",
      "틀렸습니다.\n",
      "숫자를 입력하세요 : 5\n",
      "맞습니다.\n"
     ]
    }
   ],
   "source": [
    "a = 5\n",
    "\n",
    "while True:\n",
    "    b = int(input('숫자를 입력하세요 : '))\n",
    "    \n",
    "    if a == b:\n",
    "        print('맞습니다.')\n",
    "        break       # while문 밖으로 나감\n",
    "    elif a != b:\n",
    "        print('틀렸습니다.')\n",
    "        continue    # while문 처음부터 다시"
   ]
  }
 ],
 "metadata": {
  "kernelspec": {
   "display_name": "Python 3",
   "language": "python",
   "name": "python3"
  },
  "language_info": {
   "codemirror_mode": {
    "name": "ipython",
    "version": 3
   },
   "file_extension": ".py",
   "mimetype": "text/x-python",
   "name": "python",
   "nbconvert_exporter": "python",
   "pygments_lexer": "ipython3",
   "version": "3.8.5"
  }
 },
 "nbformat": 4,
 "nbformat_minor": 4
}
