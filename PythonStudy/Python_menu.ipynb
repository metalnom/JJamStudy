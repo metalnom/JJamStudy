{
 "cells": [
  {
   "cell_type": "code",
   "execution_count": 1,
   "metadata": {},
   "outputs": [
    {
     "name": "stdout",
     "output_type": "stream",
     "text": [
      "==========< 메뉴 >===========\n",
      "        1. 김치찌개\n",
      "        2. 된장찌개\n",
      "        3. 비빔밥\n",
      "=============================\n",
      "메뉴를 선택하세요 : 1\n",
      "\n",
      "김치찌개를 선택하셨습니다. 감사합니다.\n"
     ]
    }
   ],
   "source": [
    "print('==========< 메뉴 >===========')\n",
    "print('        1. 김치찌개')\n",
    "print('        2. 된장찌개')\n",
    "print('        3. 비빔밥')\n",
    "print('=============================')\n",
    "\n",
    "menu = input('메뉴를 선택하세요 : ')\n",
    "\n",
    "if menu == '1':\n",
    "    print('\\n김치찌개를 선택하셨습니다. 감사합니다.')\n",
    "elif menu == '2':\n",
    "    print('\\n된장찌개를 선택하셨습니다. 감사합니다.')\n",
    "elif menu == '3':\n",
    "    print('\\n비빔밥을 선택하셨습니다. 감사합니다.')\n",
    "else:\n",
    "    print('\\n메뉴를 잘못 선택하셨습니다.')"
   ]
  },
  {
   "cell_type": "code",
   "execution_count": null,
   "metadata": {},
   "outputs": [],
   "source": [
    "# 남욱희: 중식   송찬근: 양식   김태희: 분식"
   ]
  }
 ],
 "metadata": {
  "kernelspec": {
   "display_name": "Python 3",
   "language": "python",
   "name": "python3"
  },
  "language_info": {
   "codemirror_mode": {
    "name": "ipython",
    "version": 3
   },
   "file_extension": ".py",
   "mimetype": "text/x-python",
   "name": "python",
   "nbconvert_exporter": "python",
   "pygments_lexer": "ipython3",
   "version": "3.8.5"
  }
 },
 "nbformat": 4,
 "nbformat_minor": 4
}
