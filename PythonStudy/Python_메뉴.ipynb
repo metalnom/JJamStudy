{
 "cells": [
  {
   "cell_type": "code",
   "execution_count": 1,
   "metadata": {},
   "outputs": [],
   "source": [
    "# 메뉴판 보여주기\n",
    "\n",
    "print('=====< 메뉴 >=====')\n",
    "print('   1. 피자')\n",
    "print('   2. 햄버거')\n",
    "print('   3. 스파게티')\n",
    "print('==================')\n",
    "\n",
    "# 메뉴 선택\n",
    "menu = input('메뉴를 선택하세요: ') # input으로 들어온 데이터는 문자형\n",
    "\n",
    "# 조건문\n",
    "if menu == '1':\n",
    "    print('피자를 선택하셨습니다.')\n",
    "elif menu == '2':\n",
    "    print('햄버거를 선택하셨습니다.')\n",
    "elif menu == '3':\n",
    "    print('스파게티를 선택하셨습니다.')\n",
    "else:\n",
    "    print('잘못 선택하셨습니다.')"
   ]
  },
  {
   "cell_type": "code",
   "execution_count": null,
   "metadata": {},
   "outputs": [],
   "source": []
  }
 ],
 "metadata": {
  "kernelspec": {
   "display_name": "Python 3",
   "language": "python",
   "name": "python3"
  },
  "language_info": {
   "codemirror_mode": {
    "name": "ipython",
    "version": 3
   },
   "file_extension": ".py",
   "mimetype": "text/x-python",
   "name": "python",
   "nbconvert_exporter": "python",
   "pygments_lexer": "ipython3",
   "version": "3.8.5"
  }
 },
 "nbformat": 4,
 "nbformat_minor": 4
}
